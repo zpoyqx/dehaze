{
 "cells": [
  {
   "cell_type": "code",
   "execution_count": 1,
   "metadata": {},
   "outputs": [
    {
     "data": {
      "application/javascript": "\nrequire(['notebook/js/codecell'], function(codecell) {\n  codecell.CodeCell.options_default.highlight_modes[\n      'magic_text/x-csrc'] = {'reg':[/^%%microblaze/]};\n  Jupyter.notebook.events.one('kernel_ready.Kernel', function(){\n      Jupyter.notebook.get_cells().map(function(cell){\n          if (cell.cell_type == 'code'){ cell.auto_highlight(); } }) ;\n  });\n});\n"
     },
     "metadata": {},
     "output_type": "display_data"
    }
   ],
   "source": [
    "# 导入比特流文件\n",
    "from pynq import Overlay\n",
    "overlay = Overlay('./bitstream/Transmit_img.bit')"
   ]
  },
  {
   "cell_type": "code",
   "execution_count": 2,
   "metadata": {},
   "outputs": [],
   "source": [
    "# ip核\n",
    "imgprocess = overlay.ImgProcess_0\n",
    "dma = overlay.axi_dma"
   ]
  },
  {
   "cell_type": "code",
   "execution_count": 3,
   "metadata": {},
   "outputs": [],
   "source": [
    "# 导入需要的库\n",
    "import cv2 as cv\n",
    "import matplotlib.pyplot as plt\n",
    "import time\n",
    "import numpy as np\n",
    "from pynq import Xlnk"
   ]
  },
  {
   "cell_type": "code",
   "execution_count": 4,
   "metadata": {},
   "outputs": [],
   "source": [
    "# 核心处理模块\n",
    "# 四叉树分割估算大气光值\n",
    "def AirlightEstimate(img):\n",
    "    start = time.time()\n",
    "    im = cv.cvtColor(I,cv.COLOR_BGR2GRAY)\n",
    "    imlist = [[],[]]\n",
    "    for times in range(5):\n",
    "        h,w = im.shape[0],im.shape[1]\n",
    "        imlist[0].append(im[0:int(w/2),0:int(h/2)])\n",
    "        imlist[0].append(im[int(w/2):w,0:int(h/2)])\n",
    "        imlist[0].append(im[0:int(h/2),int(h/2):h])\n",
    "        imlist[0].append(im[int(w/2):w,int(h/2):h])\n",
    "        imlist[1].append(img[0:int(w/2),0:int(h/2)])\n",
    "        imlist[1].append(img[int(w/2):w,0:int(h/2)])\n",
    "        imlist[1].append(img[0:int(h/2),int(h/2):h])\n",
    "        imlist[1].append(img[int(w/2):w,int(h/2):h])\n",
    "        scorelist = [np.mean(i) for i in imlist[0]]\n",
    "        max_index = np.argmax(scorelist)\n",
    "        im,img = imlist[0][max_index],imlist[1][max_index]\n",
    "        imlist = [[],[]]\n",
    "    img_single_channel_list = cv.split(img)\n",
    "    for channel in img_single_channel_list:\n",
    "        A.append(np.mean(channel))"
   ]
  },
  {
   "cell_type": "code",
   "execution_count": 5,
   "metadata": {},
   "outputs": [],
   "source": [
    "# 前置处理\n",
    "path = './images/1.jpeg'\n",
    "A= []\n",
    "I = cv.imread(path)\n",
    "start = time.time()\n",
    "tmp = cv.resize(I,(120,65))\n",
    "b,g,r = cv.split(tmp)\n",
    "height,width = I.shape[0],I.shape[1]\n",
    "in_array = np.vstack((b,g,r))"
   ]
  },
  {
   "cell_type": "code",
   "execution_count": 6,
   "metadata": {},
   "outputs": [],
   "source": [
    "# 分配内存\n",
    "xlnk = Xlnk()\n",
    "in_buffer = xlnk.cma_array(shape=(65*3,120), \n",
    "                           dtype=np.uint8)\n",
    "out_buffer = xlnk.cma_array(shape=(65,120), \n",
    "                           dtype=np.double)"
   ]
  },
  {
   "cell_type": "code",
   "execution_count": 7,
   "metadata": {},
   "outputs": [],
   "source": [
    "# 使用dma将数据传到IP核\n",
    "np.copyto(in_buffer,in_array)\n",
    "dma.sendchannel.transfer(in_buffer)\n",
    "dma.recvchannel.transfer(out_buffer) \n",
    "imgprocess.write(0x00,0x81) # start \n",
    "out_array = np.array(out_buffer)\n",
    "end = time.time()"
   ]
  },
  {
   "cell_type": "code",
   "execution_count": 8,
   "metadata": {},
   "outputs": [],
   "source": [
    "d_ref = cv.resize(out_array,(width,height))"
   ]
  },
  {
   "cell_type": "code",
   "execution_count": 9,
   "metadata": {},
   "outputs": [],
   "source": [
    "AirlightEstimate(I)\n",
    "I_single_channel_list = cv.split(I)\n",
    "result = [(I_single_channel_list[i] - A[i]) / d_ref + A[i] for i in range(3)]"
   ]
  },
  {
   "cell_type": "code",
   "execution_count": 10,
   "metadata": {},
   "outputs": [],
   "source": [
    "dst = cv.merge((result[2],result[1],result[0]))\n",
    "dst /= 255\n",
    "dst = np.abs(dst)\n",
    "dst = np.clip(dst,0,1)\n",
    "# plt.imshow(dst)\n",
    "# plt.show()"
   ]
  },
  {
   "cell_type": "code",
   "execution_count": 11,
   "metadata": {},
   "outputs": [],
   "source": [
    "# 释放内存\n",
    "in_buffer.close()\n",
    "out_buffer.close()\n",
    "xlnk.xlnk_reset()"
   ]
  }
 ],
 "metadata": {
  "kernelspec": {
   "display_name": "Python 3",
   "language": "python",
   "name": "python3"
  },
  "language_info": {
   "codemirror_mode": {
    "name": "ipython",
    "version": 3
   },
   "file_extension": ".py",
   "mimetype": "text/x-python",
   "name": "python",
   "nbconvert_exporter": "python",
   "pygments_lexer": "ipython3",
   "version": "3.7.7"
  },
  "toc": {
   "base_numbering": 1,
   "nav_menu": {},
   "number_sections": true,
   "sideBar": true,
   "skip_h1_title": false,
   "title_cell": "Table of Contents",
   "title_sidebar": "Contents",
   "toc_cell": false,
   "toc_position": {},
   "toc_section_display": true,
   "toc_window_display": false
  }
 },
 "nbformat": 4,
 "nbformat_minor": 2
}
